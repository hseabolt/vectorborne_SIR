{
 "cells": [
  {
   "cell_type": "markdown",
   "metadata": {},
   "source": [
    "# SIR Analysis\n"
   ]
  },
  {
   "cell_type": "markdown",
   "metadata": {},
   "source": [
    "P-V-H models where\n",
    "- P is the number of pathogens\n",
    "- V is the number of vectors (ticks)\n",
    "- H is the number of Hosts (Humans, Deer, Rabbits)"
   ]
  },
  {
   "cell_type": "markdown",
   "metadata": {},
   "source": [
    "## Host population Equations\n",
    "\n",
    "$$\\frac{dN}{dt} = \\beta \\left(\\frac{K-N}{K}\\right) N - bN$$\n",
    "\n",
    "Where \n",
    " - $N$ is the host population \n",
    " - $K$ is the carrying capacity of the environment\n",
    " - $\\beta$ is the growth rate of the host\n",
    "\n",
    "|         | Human | Deer | Rabbit |\n",
    "| ------- | ----- | ---- | ------ |\n",
    "| N       | |||\n",
    "| K       | |||\n",
    "| $\\beta$ | |||"
   ]
  },
  {
   "cell_type": "markdown",
   "metadata": {},
   "source": [
    "Notes:\n",
    "\n",
    "I don't think it makes sense for us to use the total human population in the US for this analysis b/c a lot of people in the cities never encounter a tick. As a result I would argue that we should use National Park data and hunting data to get an idea of relative trends of how many people are out in environments where they are exposed to ticks."
   ]
  },
  {
   "cell_type": "markdown",
   "metadata": {},
   "source": [
    "## Vector Population Equations\n",
    "\n",
    "$$ \\frac{dV}{dt} =  \\hat{\\beta} \\left(\\frac{MN - V}{MN}\\right) V - \\hat{b}V$$\n",
    "\n",
    "Where\n",
    " - $V$ is the Vector population\n",
    " - $\\hat{\\beta}$ is the density dependent vector birth/death rate\n",
    " - $M$ is the number of ticks per host\n",
    " - $N$ is the number of hosts\n",
    " - $b$ is the density independent death rate\n",
    "\n",
    " |         | Human | Deer | Rabbit |\n",
    "| ------- | ----- | ---- | ------ |\n",
    "| N       | |||\n",
    "| M       | |||"
   ]
  },
  {
   "cell_type": "markdown",
   "metadata": {},
   "source": [
    "## Transmission\n",
    " - 3 types\n",
    "    - Vector Borne: \n",
    "        - infected host -> susceptible tick\n",
    "        - infected tick -> susceptible host\n",
    "    - Transovarial\n",
    "        - Mom tick -> children ticks\n",
    "    - Transstadial\n",
    "        - ticks stay infected as they go through their life cycles\n",
    "    - Cofeeeding\n",
    "        - infected tick -> susceptible tick (while feeding on an uninfected host) \n",
    "\n",
    "Uninfected Hosts: $N_s$\n",
    "Infected Hosts: $Y_{pathogens}$\n",
    "\n",
    "Uninfected Vectors (ticks): $V_s$\n",
    "Infected Vectors: $X_{pathogens}$\n",
    "\n",
    "![Infection Flow Diagram](./infectionFlowDiagram2.jpg)"
   ]
  },
  {
   "cell_type": "markdown",
   "metadata": {},
   "source": [
    "### Transmission Modelling\n",
    "\n",
    "$$A_{i} \\left(\\frac{N - Y_1 - Y_2 - Y_{12}}{N}\\right) (X_{i} + X_{12})$$\n",
    "\n",
    "Where:\n",
    " - $A_{i}$ is the rate of transmission from tick to host\n",
    "    - includes biting rate, probability of transmission, and proportion of hosts to ticks\n",
    " - $\\left(\\frac{N - Y_1 - Y_2 - Y_{12}}{N}\\right)$ is the uninfected population divided by total population\n",
    " - $(X_{i} + X_{12})$ is the number of vectors infected with pathogen i (including the coinfected vectors)\n",
    " "
   ]
  },
  {
   "cell_type": "code",
   "execution_count": null,
   "metadata": {},
   "outputs": [],
   "source": []
  }
 ],
 "metadata": {
  "kernelspec": {
   "display_name": "Python 3.10.4 64-bit",
   "language": "python",
   "name": "python3"
  },
  "language_info": {
   "name": "python",
   "version": "3.10.4"
  },
  "orig_nbformat": 4,
  "vscode": {
   "interpreter": {
    "hash": "5e5597a56dc86d815008621a37b44c4321b715ff65680161e8c67ea71ccad48f"
   }
  }
 },
 "nbformat": 4,
 "nbformat_minor": 2
}