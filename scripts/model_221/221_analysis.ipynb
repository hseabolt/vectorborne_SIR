{
 "cells": [
  {
   "cell_type": "markdown",
   "metadata": {},
   "source": [
    "# SIR Analysis\n"
   ]
  },
  {
   "cell_type": "code",
   "execution_count": 1,
   "metadata": {},
   "outputs": [],
   "source": [
    "import numpy as np\n",
    "import pandas as pd\n",
    "from scipy.integrate import ode, solve_ivp\n",
    "import matplotlib.pyplot as plt\n",
    "%load_ext autoreload\n",
    "%autoreload 2"
   ]
  },
  {
   "cell_type": "markdown",
   "metadata": {},
   "source": [
    "P-V-H models where\n",
    "- P is the number of pathogens\n",
    "- V is the number of vectors (ticks)\n",
    "- H is the number of Hosts (Humans, Deer, Rabbits)"
   ]
  },
  {
   "cell_type": "markdown",
   "metadata": {},
   "source": [
    "## Host population Equations\n",
    "\n",
    "$$\\frac{dN}{dt} = \\beta \\left(\\frac{K-N}{K}\\right) N - bN$$\n",
    "\n",
    "Where \n",
    " - $N$ is the host population \n",
    " - $K$ is the carrying capacity of the environment\n",
    " - $\\beta$ is the growth rate of the host\n",
    "\n",
    "|         | Human | Deer | Rabbit |\n",
    "| ------- | ----- | ---- | ------ |\n",
    "| N       | |||\n",
    "| K       | |||\n",
    "| $\\beta$ | |||"
   ]
  },
  {
   "cell_type": "markdown",
   "metadata": {},
   "source": [
    "Notes:\n",
    "\n",
    "I don't think it makes sense for us to use the total human population in the US for this analysis b/c a lot of people in the cities never encounter a tick. As a result I would argue that we should use National Park data and hunting data to get an idea of relative trends of how many people are out in environments where they are exposed to ticks."
   ]
  },
  {
   "cell_type": "markdown",
   "metadata": {},
   "source": [
    "## Vector Population Equations\n",
    "\n",
    "$$ \\frac{dV}{dt} =  \\hat{\\beta} \\left(\\frac{MN - V}{MN}\\right) V - \\hat{b}V$$\n",
    "\n",
    "Where\n",
    " - $V$ is the Vector population\n",
    " - $\\hat{\\beta}$ is the density dependent vector birth/death rate\n",
    " - $M$ is the number of ticks per host\n",
    " - $N$ is the number of hosts\n",
    " - $b$ is the density independent death rate\n",
    "\n",
    " |         | Human | Deer | Rabbit |\n",
    "| ------- | ----- | ---- | ------ |\n",
    "| N       | |||\n",
    "| M       | |||"
   ]
  },
  {
   "cell_type": "markdown",
   "metadata": {},
   "source": [
    "## Transmission\n",
    " - 3 types\n",
    "    - Vector Borne: \n",
    "        - infected host -> susceptible tick\n",
    "        - infected tick -> susceptible host\n",
    "    - Transovarial\n",
    "        - Mom tick -> children ticks\n",
    "    - Transstadial\n",
    "        - ticks stay infected as they go through their life cycles\n",
    "    - Cofeeeding\n",
    "        - infected tick -> susceptible tick (while feeding on an uninfected host) \n",
    "\n",
    "Uninfected Hosts: $N_s$\n",
    "Infected Hosts: $Y_{pathogens}$\n",
    "\n",
    "Uninfected Vectors (ticks): $V_s$\n",
    "Infected Vectors: $X_{pathogens}$\n",
    "\n",
    "![Infection Flow Diagram](./infectionFlowDiagram2.jpg)"
   ]
  },
  {
   "cell_type": "markdown",
   "metadata": {},
   "source": [
    "### Tick to Host Transmission Modelling\n",
    "\n",
    "#### Infection of Host via Tick Component\n",
    "\n",
    "$$A_{i} \\left(\\frac{N - Y_1 - Y_2 - Y_{12}}{N}\\right) (X_{i} + X_{12})$$\n",
    "\n",
    "Where:\n",
    " - $A_{i}$ is the rate of transmission from tick to host\n",
    "    - includes biting rate, probability of transmission, and proportion of hosts to ticks\n",
    " - $\\left(\\frac{N - Y_1 - Y_2 - Y_{12}}{N}\\right)$ is the uninfected population divided by total population\n",
    " - $(X_{i} + X_{12})$ is the number of vectors infected with pathogen i (including the coinfected vectors)\n",
    " "
   ]
  },
  {
   "cell_type": "markdown",
   "metadata": {},
   "source": [
    "#### Overall Host Infection Equation (Single Pathogen)\n",
    "\n",
    "$$\\frac{dY_1}{dt} = A_1 \\left(\\frac{N - Y_1 - Y_2 - Y_{12}}{N}\\right) (X_1 + X_12)\n",
    " + v_{12,1} Y_{12}\n",
    " - A_{12} \\left(\\frac{Y_1}{N}\\right) \\left(X_2 + X_12\\right)\n",
    " - \\beta \\left(\\frac{N Y_1}{K}\\right)\n",
    " - (b + v_1) Y_1\n",
    " $$\n",
    "\n"
   ]
  },
  {
   "cell_type": "markdown",
   "metadata": {},
   "source": [
    "## Extending the 2-1-1 model to 2-2-1\n",
    "\n",
    "In order to extend the 2-1-1 model to a 2-2-1 model we need to add in another tick population. To represent this additional tick population we are going to make the following notation change.\n",
    "\n",
    "In the 2-1-1 model the total population of ticks was represented by $V$ with a single species of ticks notated with $X$. Where $X_i$ represented the number of ticks infected with pathogen $i$.\n",
    "\n",
    "In the 2-2-1 model, instead of having a single species of ticks, we have two species of ticks. To take this into account, we are adding two additional terms. $W$ to represent the total number of the second species of ticks, and $Z_i$ to represent the number of $W$ ticks infected with pathogen $i$."
   ]
  },
  {
   "cell_type": "markdown",
   "metadata": {},
   "source": [
    "### Overall 2-1-1 Host Infection Equation (Single Pathogen)\n",
    "\n",
    "$$\\frac{dY_1}{dt} = \n",
    " A_1^V \\left(\\frac{N - Y_1 - Y_2 - Y_{12}}{N}\\right) (X_1 + X_12)\n",
    " + A_1^W \\left(\\frac{N - Y_1 - Y_2 - Y_{12}}{N}\\right) (Z_1 + Z_12)\n",
    " + v_{12 \\rightarrow 1} Y_{12}\n",
    " - A_{12}^V \\left(\\frac{Y_1}{N}\\right) \\left(X_2 + X_12\\right)\n",
    " - A_{12}^W \\left(\\frac{Y_1}{N}\\right) \\left(Z_2 + Z_12\\right)\n",
    " - \\beta \\left(\\frac{N Y_1}{K}\\right)\n",
    " - (b + v_1) Y_1\n",
    " $$\n"
   ]
  },
  {
   "cell_type": "markdown",
   "metadata": {},
   "source": [
    "Where \n",
    "\n",
    "$$A_1^V \\left(\\frac{N - Y_1 - Y_2 - Y_{12}}{N}\\right) (X_1 + X_{12})$$\n",
    "\n",
    "represents the increase in the number of hosts infected with pathogen 1 via ticks of species $V$.\n",
    "Computed by multiplying a transmission constant $A_1^V$ by the susceptable proportion of the host population $\\left(\\frac{N - Y_1 - Y_2 - Y_{12}}{N}\\right)$ and the number of contagious ticks $(X_1 + X_{12})$\n",
    "\n",
    "$$+ A_1^W \\left(\\frac{N - Y_1 - Y_2 - Y_{12}}{N}\\right) (Z_1 + Z_{12})$$\n",
    "\n",
    "represents the increase in the number of hosts solely infected with pathogen 1 via ticks of species $W$.\n",
    "\n",
    "$$+ v_{12 \\rightarrow 1} Y_{12}$$\n",
    "\n",
    "represents the increase in the number of hosts solely infected with pathogen 1 via the recovery of hosts from the coinfected 1,2 state.\n",
    "\n",
    "$$- A_{12}^V \\left(\\frac{Y_1}{N}\\right) \\left(X_2 + X_12\\right)$$\n",
    "\n",
    "represents the decrease in the number of hosts solely infected with pathogen 1 due to coinfection with pathogen 2 via ticks of species $V$.\n",
    "\n",
    "$$- A_{12}^W \\left(\\frac{Y_1}{N}\\right) \\left(Z_2 + Z_12\\right)$$\n",
    "\n",
    "represents the decrease in the number of hosts solely infected with pathogen 1 due to coinfection with pathogen 2 via ticks of species $W$\n",
    "\n",
    "$$- \\beta \\left(\\frac{N Y_1}{K}\\right)$$\n",
    "\n",
    "represents the decrease in the number of hosts solely infected with pathogen 1 due to some growth process???\n",
    "\n",
    "$$- (b + v_1) Y_1$$\n",
    "\n",
    "represents the decrease in the number of hosts solely infected with pathogen 1 due to host recovery and death."
   ]
  },
  {
   "cell_type": "markdown",
   "metadata": {},
   "source": [
    "### Overall 2-2-1 Host Infection Equation (Coinfection)\n",
    "\n",
    "$$\n",
    "\\frac{dY_{12}}{d_t} = \n",
    "A_{12}^V \\left(\\frac{Y_1}{N}\\right) (X_2 + X_{12})\n",
    "+ A_{12}^W \\left(\\frac{Y_1}{N}\\right) (Z_2 + Z_{12})\n",
    "+ A_{21}^V \\left(\\frac{Y_2}{N}\\right) (X_1 + X_{12})\n",
    "+ A_{21}^W \\left(\\frac{Y_2}{N}\\right) (Z_1 + Z_{12})\n",
    "- \\beta \\left(\\frac{N Y_{12}}{K}\\right)\n",
    "- (b + v_{12 \\rightarrow 1} + v_{12 \\rightarrow 2}) Y_{12}\n",
    "$$"
   ]
  },
  {
   "cell_type": "markdown",
   "metadata": {},
   "source": [
    "Where:\n",
    "\n",
    "$$A_{12}^V \\left(\\frac{Y_1}{N}\\right) (X_2 + X_{12})$$\n",
    "\n",
    "is the increase in number of coinfected hosts from hosts that were already infected by pathogen 1 via a tick of species $V$.\n",
    "\n",
    "$$+ A_{12}^W \\left(\\frac{Y_1}{N}\\right) (Z_2 + Z_{12})$$\n",
    "\n",
    "is the increase in number of coinfected hosts from hosts that were already infected by pathogen 1 via a tick of species $W$.\n",
    "\n",
    "$$+ A_{21}^V \\left(\\frac{Y_2}{N}\\right) (X_1 + X_{12})$$\n",
    "\n",
    "is the increase in number of coinfected hosts from hosts that were already infected by pathogen 2 via a tick of species $V$.\n",
    "\n",
    "$$+ A_{21}^W \\left(\\frac{Y_2}{N}\\right) (Z_1 + Z_{12})$$\n",
    "\n",
    "is the increase in number of coinfected hosts from hosts that were already infected by pathogen 2 via a tick of species $W$.\n",
    "\n",
    "$$- \\beta \\left(\\frac{N Y_{12}}{K}\\right)$$\n",
    "\n",
    "is the decrease in number of coinfected hosts due to some growth dynamic\n",
    "\n",
    "$$- (b + v_{12 \\rightarrow 1} + v_{12 \\rightarrow 2}) Y_{12}$$\n",
    "\n",
    "represents the decrease in the number of coinfected hosts due to death ($b$), recovery to solely being infected with pathogen 1 ($v_{12 \\rightarrow 1}), and recovery to solely being infected with pathogen 2 ($v_{12 \\rightarrow 2})$)"
   ]
  },
  {
   "cell_type": "markdown",
   "metadata": {},
   "source": [
    "### Overall 2-2-1 Tick Infection Equation (Single Pathogen)\n",
    "\n",
    "$$\n",
    "\\frac{dX_1}{d_t} = \n",
    "\\hat{A}_1^V \\left(\\frac{Y_1 + Y_{12}}{N}\\right) (V - X_1 - X_2 - X_{12})\n",
    "+ \\hat{\\beta_t^V} (\\gamma_1^V X_1 + \\gamma_{12}^V X_{12})\n",
    "+ \\mu_1^V \\left(\\frac{X_1 + X_{12}}{V}\\right) (V - X_1 - X_2 - X_{12})\n",
    "+ \\mu_1^W \\left(\\frac{Z_1 + Z_{12}}{W}\\right) (V - X_1 - X_2 - X_{12})\n",
    "- \\hat{A}_{1 \\rightarrow 12}^V \\left(\\frac{Y_2 + Y_{12}}{N}\\right) X_1\n",
    "- \\mu_{1 \\rightarrow 12}^V \\frac{X_2 + X_{12}}{V} X_1\n",
    "- \\mu_{1 \\rightarrow 12}^W \\frac{Z2 + Z_{12}}{W} X_1\n",
    "- \\hat{\\beta} \\frac{V X_1}{M N}\n",
    "- \\hat{b} X_1\n",
    "$$"
   ]
  },
  {
   "cell_type": "markdown",
   "metadata": {},
   "source": [
    "Where:\n",
    "\n",
    "$$\\frac{dX_1}{d_t}$$\n",
    "\n",
    "is the change in the number of ticks of species X that are infected with pathogen 1 only\n",
    "\n",
    "$$ \\hat{A}_1^V \\left(\\frac{Y_1 + Y_{12}}{N}\\right) (V - X_1 - X_2 - X_{12}) $$\n",
    "\n",
    "is the increase in the number of species X ticks infected solely by pathogen 1 due to interactions with infected hosts\n",
    "\n",
    "$$+ \\hat{\\beta_t^V} (\\gamma_1^V X_1 + \\gamma_{12}^V X_{12})$$\n",
    "\n",
    "is the increase in the number of species X ticks infected with pathogen 1 only due to trans-ovarial and trans-stadial transmission\n",
    "\n",
    "$$+ \\mu_1^V \\left(\\frac{X_1 + X_{12}}{V}\\right) (V - X_1 - X_2 - X_{12})$$\n",
    "\n",
    "is the increase in the number of species X ticks infected with pathogen 1 only due to cofeeding with another infected species X tick\n",
    "\n",
    "$$+ \\mu_1^W \\left(\\frac{Z_1 + Z_{12}}{W}\\right) (V - X_1 - X_2 - X_{12})$$\n",
    "\n",
    "is the increase in the number of species X ticks infected with pathogen 1 only due to cofeeding with anogher infected species W tick\n",
    "\n",
    "$$- \\hat{A}_{1 \\rightarrow 12}^V \\left(\\frac{Y_2 + Y_{12}}{N}\\right) X_1$$\n",
    "\n",
    "is the decrease in the number of species X ticks solely infected with pathogen 1 due to coinfection after feeding on a pathogen 2 infected host\n",
    "\n",
    "$$- \\mu_{1 \\rightarrow 12}^V \\frac{X_2 + X_{12}}{V} X_1$$\n",
    "\n",
    "is the decrease in the number of species X ticks solely infected with pathogen 1 due to coinfection via cofeeding with a pathogen 2 infected species V tick.\n",
    "\n",
    "$$- \\mu_{1 \\rightarrow 12}^W \\frac{Z2 + Z_{12}}{W} X_1$$\n",
    "\n",
    "is the decrease in the number of species X ticks solely infected with pathogen 1 due to coinfection via cofeeding with a pathogen 2 infected species W tick.\n",
    "\n",
    "$$- \\hat{\\beta} \\frac{V X_1}{M N}$$\n",
    "\n",
    "is the decrease in the number of species X ticks solely infected with pathogen 1 due to overall species X population dynamics\n",
    "\n",
    "$$- \\hat{b} X_1$$\n",
    "\n",
    "is the decrease in the number of species X ticks solely infected with pathogen 1 due to deaths of species X ticks\n",
    "\n"
   ]
  },
  {
   "cell_type": "markdown",
   "metadata": {},
   "source": [
    "### Overall 2-2-1 Tick Infection Equation (Coinfection)\n",
    "\n",
    "$$\\frac{dX_{12}}{dt} = \n",
    "\\hat{A}_{12} \\left(\\frac{Y_2 + Y_{12}}{N}\\right) X_1\n",
    "+ \\hat{A}_{21} \\left(\\frac{Y_1 + Y_{12}}{N}\\right) X_2\n",
    "+ \\mu_{12}^{V} \\left(\\frac{X_2 + X_{12}}{V}\\right) X_1\n",
    "+ \\mu_{21}^{V} \\left(\\frac{X_1 + X_{12}}{V}\\right) X_2\n",
    "+ \\mu_{12}^{W} \\left(\\frac{Z_2 + Z_{12}}{W}\\right) X_1\n",
    "+ \\mu_{21}^{W} \\left(\\frac{Z_1 + Z_{12}}{W}\\right) X_2\n",
    "- \\hat{\\beta}^V_{12} \\frac{V X_{12}}{M N}\n",
    "- \\hat{b}^V_{12} X_{12} \n",
    "$$"
   ]
  },
  {
   "cell_type": "markdown",
   "metadata": {},
   "source": [
    "Where:\n",
    "\n",
    "$$\\frac{dX_{12}}{dt}$$\n",
    "\n",
    "is the rate of increase in coinfected X species ticks\n",
    "\n",
    "$$\\hat{A}_{12} \\left(\\frac{Y_2 + Y_{12}}{N}\\right) X_1$$\n",
    "\n",
    "represents the increase of coinfected X species ticks from X species ticks solely infected by pathogen 1 becoming coinfected with pathogen 2 after feeding on a pathogen 2 infected host.\n",
    "\n",
    "$$+ \\hat{A}_{21} \\left(\\frac{Y_1 + Y_{12}}{N}\\right) X_2$$\n",
    "\n",
    "represents the increase of coinfected X species ticks from X species ticks solely infected by pathogen 2 becoming coinfected with pathogen 1 after feeding on a pathogen 2 infected host.\n",
    "\n",
    "$$+ \\mu_{12}^{V} \\left(\\frac{X_2 + X_{12}}{V}\\right) X_1$$\n",
    "\n",
    "represents the number of species X ticks that were solely infected by pathogen 1 but are now coinfected after co-feeding with a pathogen 2 infected species X tick\n",
    "\n",
    "$$+ \\mu_{21}^{V} \\left(\\frac{X_1 + X_{12}}{V}\\right) X_2$$\n",
    "\n",
    "represents the number of species X ticks that were solely infected by pathogen 2 but are now coinfected after co-feeding with a pathogen 2 infected species X tick\n",
    "\n",
    "$$+ \\mu_{12}^{W} \\left(\\frac{Z_2 + Z_{12}}{W}\\right) X_1$$\n",
    "\n",
    "represents the number of species X ticks that were solely infected by pathogen 1 but are now coinfected after co-feeding with a pathogen 2 infected species W tick\n",
    "\n",
    "$$+ \\mu_{21}^{W} \\left(\\frac{Z_1 + Z_{12}}{W}\\right) X_2$$\n",
    "\n",
    "represents the number of species X ticks that were solely infected by pathogen 2 but are now coinfected after co-feeding with a pathogen 1 infected species W tick\n",
    "\n",
    "$$- \\hat{\\beta}^V_{12} \\frac{V X_{12}}{M N}$$\n",
    "\n",
    "represents the loss in coinfected species X ticks due to population dynamics\n",
    "\n",
    "$$- \\hat{b}^V_{12} X_{12} $$\n",
    "\n",
    "represents the loss in coinfected species X ticks due to tick death\n"
   ]
  }
 ],
 "metadata": {
  "kernelspec": {
   "display_name": "Python 3.10.7 64-bit",
   "language": "python",
   "name": "python3"
  },
  "language_info": {
   "codemirror_mode": {
    "name": "ipython",
    "version": 3
   },
   "file_extension": ".py",
   "mimetype": "text/x-python",
   "name": "python",
   "nbconvert_exporter": "python",
   "pygments_lexer": "ipython3",
   "version": "3.10.7"
  },
  "orig_nbformat": 4,
  "vscode": {
   "interpreter": {
    "hash": "5e5597a56dc86d815008621a37b44c4321b715ff65680161e8c67ea71ccad48f"
   }
  }
 },
 "nbformat": 4,
 "nbformat_minor": 2
}
